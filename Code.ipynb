{
 "cells": [
  {
   "cell_type": "markdown",
   "id": "9eff7a09",
   "metadata": {},
   "source": [
    "#### This project is about Google’s stock price prediction using Keras’ LSTM model trained on past stock data.\n",
    "#### I have got the data set from Kaggle the data set contains 2012 to 2017 google stock price data and the data set contains information such as the date, opening price, closing price, highest price, lowest price, and trading volume.\n"
   ]
  },
  {
   "cell_type": "markdown",
   "id": "a3cadb91",
   "metadata": {},
   "source": [
    "#### I considered LSTM, random forest, and Artificial neural networks to use as machine learning techniques for this google stock price prediction, And I chose to use LSTM because LSTM is able to learn long short-term dependencies in the data and handle the missing data which makes them more suitable for stock price prediction than random forest and Artificial neural networks. "
   ]
  },
  {
   "cell_type": "markdown",
   "id": "311a2427",
   "metadata": {},
   "source": [
    "#### First i have imported the required libraries such as numpy , pandas , matplotlib\n"
   ]
  },
  {
   "cell_type": "code",
   "execution_count": 3,
   "id": "a559310f",
   "metadata": {
    "scrolled": false
   },
   "outputs": [],
   "source": [
    "import numpy as np\n",
    "import pandas as pd\n",
    "import matplotlib.pyplot as plt\n",
    "from sklearn.preprocessing import MinMaxScaler\n",
    "from tensorflow.keras.models import Sequential\n",
    "from tensorflow.keras.layers import LSTM,Dropout,Dense"
   ]
  },
  {
   "cell_type": "markdown",
   "id": "887c44a1",
   "metadata": {},
   "source": [
    "#### This code block is used to read the training data, I'm just taking the first column here which is the open column in the data set. Then I initialized the MinMaxScaler to scale the data between 0 and 1. After that, I initialized two arrays called x_train and y_train. The first entry in the x_train array is the first 60 open stock prices and the first entry in the y_train is the 61st value of open stock price. I have done that because I want the model to predict the 61st value of stock price when I provide it with the previous 60 values. In this way, we can keep on building X_train and y_train."
   ]
  },
  {
   "cell_type": "code",
   "execution_count": 2,
   "id": "ef154f4a",
   "metadata": {},
   "outputs": [],
   "source": [
    "dataset_train = pd.read_csv('Google_Stock_Price_Train.csv')\n",
    "training_set = dataset_train.iloc[:, 1:2].values\n",
    "\n",
    "sc = MinMaxScaler(feature_range = (0, 1))\n",
    "training_set_scaled = sc.fit_transform(training_set)\n",
    "\n",
    "X_train = []\n",
    "y_train = []\n",
    "\n",
    "for i in range(60, 1258):\n",
    "    X_train.append(training_set_scaled[i-60:i, 0])\n",
    "    y_train.append(training_set_scaled[i, 0])"
   ]
  },
  {
   "cell_type": "markdown",
   "id": "dcaba063",
   "metadata": {},
   "source": [
    "#### And the 3rd step is getting the training data in shape here I have converted the lists to arrays and in the second step I added dummy dimensions in the end because kernel models require the data in this format only."
   ]
  },
  {
   "cell_type": "code",
   "execution_count": 7,
   "id": "e6212805",
   "metadata": {},
   "outputs": [],
   "source": [
    "X_train, y_train = np.array(X_train), np.array(y_train)\n",
    "X_train = np.reshape(X_train, (X_train.shape[0], X_train.shape[1], 1))"
   ]
  },
  {
   "cell_type": "markdown",
   "id": "85908cf9",
   "metadata": {},
   "source": [
    "#### The 4th step is creating the stock price prediction model and this sequential model consists of 4 LSTM layers with 50 units each. After these LSTM layers here we can see a dense layer. I used adam optimizer here and for the loss, I used mean squared error \n",
    "\n",
    "LSTM\n",
    "This layer uses available constraints and runtime hardware to gain the most optimized performance\n",
    "\n",
    "Why dense is used in Python?\n",
    "Dense is the only actual network layer in that model. A Dense layer feeds all outputs from the previous layer to all its neurons, each neuron providing one output to the next layer. It's the most basic layer in neural networks.\n",
    "\n",
    "Adam\n",
    "is an optimization algorithm that can be used instead of the classical stochastic gradient descent procedure to update network weights iterative based in training data.\n",
    "\n",
    "Mean Squared Error\n",
    "measures how close a regression line is to a set of data points."
   ]
  },
  {
   "cell_type": "code",
   "execution_count": 8,
   "id": "50a9ec45",
   "metadata": {},
   "outputs": [
    {
     "name": "stdout",
     "output_type": "stream",
     "text": [
      "Model: \"sequential_2\"\n",
      "_________________________________________________________________\n",
      " Layer (type)                Output Shape              Param #   \n",
      "=================================================================\n",
      " lstm_8 (LSTM)               (None, 60, 50)            10400     \n",
      "                                                                 \n",
      " dropout_8 (Dropout)         (None, 60, 50)            0         \n",
      "                                                                 \n",
      " lstm_9 (LSTM)               (None, 60, 50)            20200     \n",
      "                                                                 \n",
      " dropout_9 (Dropout)         (None, 60, 50)            0         \n",
      "                                                                 \n",
      " lstm_10 (LSTM)              (None, 60, 50)            20200     \n",
      "                                                                 \n",
      " dropout_10 (Dropout)        (None, 60, 50)            0         \n",
      "                                                                 \n",
      " lstm_11 (LSTM)              (None, 50)                20200     \n",
      "                                                                 \n",
      " dropout_11 (Dropout)        (None, 50)                0         \n",
      "                                                                 \n",
      " dense_2 (Dense)             (None, 1)                 51        \n",
      "                                                                 \n",
      "=================================================================\n",
      "Total params: 71,051\n",
      "Trainable params: 71,051\n",
      "Non-trainable params: 0\n",
      "_________________________________________________________________\n",
      "None\n"
     ]
    }
   ],
   "source": [
    "regressor = Sequential()\n",
    "\n",
    "regressor.add(LSTM(units = 50, return_sequences = True, input_shape = (X_train.shape[1], 1)))\n",
    "regressor.add(Dropout(0.2))\n",
    "\n",
    "regressor.add(LSTM(units = 50, return_sequences = True))\n",
    "regressor.add(Dropout(0.2))\n",
    "\n",
    "regressor.add(LSTM(units = 50, return_sequences = True))\n",
    "regressor.add(Dropout(0.2))\n",
    "\n",
    "regressor.add(LSTM(units = 50))\n",
    "regressor.add(Dropout(0.2))\n",
    "\n",
    "regressor.add(Dense(units = 1))\n",
    "\n",
    "regressor.compile(optimizer = 'adam', loss = 'mean_squared_error')\n",
    "\n",
    "print(regressor.summary())"
   ]
  },
  {
   "cell_type": "markdown",
   "id": "b40d63d7",
   "metadata": {},
   "source": [
    "#### The 5 th steps is Training the Stock Price Prediction model. here I trained our model for 100 epochs, and the batch size I have taken is 32 ( you can also experiment with these values )"
   ]
  },
  {
   "cell_type": "code",
   "execution_count": 9,
   "id": "8c6b47f9",
   "metadata": {},
   "outputs": [
    {
     "name": "stdout",
     "output_type": "stream",
     "text": [
      "Epoch 1/100\n",
      "38/38 [==============================] - 9s 84ms/step - loss: 0.0356\n",
      "Epoch 2/100\n",
      "38/38 [==============================] - 3s 83ms/step - loss: 0.0068\n",
      "Epoch 3/100\n",
      "38/38 [==============================] - 3s 83ms/step - loss: 0.0052\n",
      "Epoch 4/100\n",
      "38/38 [==============================] - 3s 83ms/step - loss: 0.0054\n",
      "Epoch 5/100\n",
      "38/38 [==============================] - 3s 89ms/step - loss: 0.0054\n",
      "Epoch 6/100\n",
      "38/38 [==============================] - 3s 83ms/step - loss: 0.0052\n",
      "Epoch 7/100\n",
      "38/38 [==============================] - 3s 83ms/step - loss: 0.0047\n",
      "Epoch 8/100\n",
      "38/38 [==============================] - 4s 96ms/step - loss: 0.0046\n",
      "Epoch 9/100\n",
      "38/38 [==============================] - 3s 83ms/step - loss: 0.0046\n",
      "Epoch 10/100\n",
      "38/38 [==============================] - 3s 86ms/step - loss: 0.0043\n",
      "Epoch 11/100\n",
      "38/38 [==============================] - 3s 84ms/step - loss: 0.0042\n",
      "Epoch 12/100\n",
      "38/38 [==============================] - 3s 87ms/step - loss: 0.0044\n",
      "Epoch 13/100\n",
      "38/38 [==============================] - 3s 90ms/step - loss: 0.0037\n",
      "Epoch 14/100\n",
      "38/38 [==============================] - 4s 98ms/step - loss: 0.0036\n",
      "Epoch 15/100\n",
      "38/38 [==============================] - 4s 93ms/step - loss: 0.0038\n",
      "Epoch 16/100\n",
      "38/38 [==============================] - 3s 87ms/step - loss: 0.0042\n",
      "Epoch 17/100\n",
      "38/38 [==============================] - 3s 83ms/step - loss: 0.0038\n",
      "Epoch 18/100\n",
      "38/38 [==============================] - 3s 88ms/step - loss: 0.0038\n",
      "Epoch 19/100\n",
      "38/38 [==============================] - 4s 110ms/step - loss: 0.0034\n",
      "Epoch 20/100\n",
      "38/38 [==============================] - 3s 86ms/step - loss: 0.0033\n",
      "Epoch 21/100\n",
      "38/38 [==============================] - 3s 80ms/step - loss: 0.0038\n",
      "Epoch 22/100\n",
      "38/38 [==============================] - 3s 79ms/step - loss: 0.0033\n",
      "Epoch 23/100\n",
      "38/38 [==============================] - 3s 85ms/step - loss: 0.0032\n",
      "Epoch 24/100\n",
      "38/38 [==============================] - 4s 95ms/step - loss: 0.0035\n",
      "Epoch 25/100\n",
      "38/38 [==============================] - 4s 94ms/step - loss: 0.0039\n",
      "Epoch 26/100\n",
      "38/38 [==============================] - 4s 98ms/step - loss: 0.0035\n",
      "Epoch 27/100\n",
      "38/38 [==============================] - 3s 84ms/step - loss: 0.0027\n",
      "Epoch 28/100\n",
      "38/38 [==============================] - 4s 107ms/step - loss: 0.0029\n",
      "Epoch 29/100\n",
      "38/38 [==============================] - 3s 89ms/step - loss: 0.0027\n",
      "Epoch 30/100\n",
      "38/38 [==============================] - 3s 87ms/step - loss: 0.0028\n",
      "Epoch 31/100\n",
      "38/38 [==============================] - 3s 84ms/step - loss: 0.0029\n",
      "Epoch 32/100\n",
      "38/38 [==============================] - 3s 83ms/step - loss: 0.0030\n",
      "Epoch 33/100\n",
      "38/38 [==============================] - 3s 90ms/step - loss: 0.0030\n",
      "Epoch 34/100\n",
      "38/38 [==============================] - 3s 83ms/step - loss: 0.0027\n",
      "Epoch 35/100\n",
      "38/38 [==============================] - 3s 84ms/step - loss: 0.0026\n",
      "Epoch 36/100\n",
      "38/38 [==============================] - 3s 83ms/step - loss: 0.0030\n",
      "Epoch 37/100\n",
      "38/38 [==============================] - 3s 87ms/step - loss: 0.0030\n",
      "Epoch 38/100\n",
      "38/38 [==============================] - 3s 90ms/step - loss: 0.0027\n",
      "Epoch 39/100\n",
      "38/38 [==============================] - 3s 87ms/step - loss: 0.0032\n",
      "Epoch 40/100\n",
      "38/38 [==============================] - 3s 86ms/step - loss: 0.0028\n",
      "Epoch 41/100\n",
      "38/38 [==============================] - 3s 83ms/step - loss: 0.0030\n",
      "Epoch 42/100\n",
      "38/38 [==============================] - 3s 85ms/step - loss: 0.0026\n",
      "Epoch 43/100\n",
      "38/38 [==============================] - 3s 90ms/step - loss: 0.0029\n",
      "Epoch 44/100\n",
      "38/38 [==============================] - 3s 80ms/step - loss: 0.0026\n",
      "Epoch 45/100\n",
      "38/38 [==============================] - 3s 80ms/step - loss: 0.0023\n",
      "Epoch 46/100\n",
      "38/38 [==============================] - 3s 83ms/step - loss: 0.0026\n",
      "Epoch 47/100\n",
      "38/38 [==============================] - 3s 83ms/step - loss: 0.0027\n",
      "Epoch 48/100\n",
      "38/38 [==============================] - 3s 88ms/step - loss: 0.0022\n",
      "Epoch 49/100\n",
      "38/38 [==============================] - 3s 81ms/step - loss: 0.0021\n",
      "Epoch 50/100\n",
      "38/38 [==============================] - 3s 82ms/step - loss: 0.0023\n",
      "Epoch 51/100\n",
      "38/38 [==============================] - 3s 82ms/step - loss: 0.0025\n",
      "Epoch 52/100\n",
      "38/38 [==============================] - 3s 85ms/step - loss: 0.0026\n",
      "Epoch 53/100\n",
      "38/38 [==============================] - 3s 90ms/step - loss: 0.0023\n",
      "Epoch 54/100\n",
      "38/38 [==============================] - 3s 80ms/step - loss: 0.0021\n",
      "Epoch 55/100\n",
      "38/38 [==============================] - 3s 83ms/step - loss: 0.0020\n",
      "Epoch 56/100\n",
      "38/38 [==============================] - 3s 80ms/step - loss: 0.0021\n",
      "Epoch 57/100\n",
      "38/38 [==============================] - 3s 80ms/step - loss: 0.0022\n",
      "Epoch 58/100\n",
      "38/38 [==============================] - 3s 86ms/step - loss: 0.0023\n",
      "Epoch 59/100\n",
      "38/38 [==============================] - 3s 86ms/step - loss: 0.0021\n",
      "Epoch 60/100\n",
      "38/38 [==============================] - 3s 80ms/step - loss: 0.0021\n",
      "Epoch 61/100\n",
      "38/38 [==============================] - 3s 83ms/step - loss: 0.0018\n",
      "Epoch 62/100\n",
      "38/38 [==============================] - 3s 90ms/step - loss: 0.0018\n",
      "Epoch 63/100\n",
      "38/38 [==============================] - 4s 104ms/step - loss: 0.0023\n",
      "Epoch 64/100\n",
      "38/38 [==============================] - 4s 92ms/step - loss: 0.0018\n",
      "Epoch 65/100\n",
      "38/38 [==============================] - 3s 88ms/step - loss: 0.0019\n",
      "Epoch 66/100\n",
      "38/38 [==============================] - 4s 103ms/step - loss: 0.0019\n",
      "Epoch 67/100\n",
      "38/38 [==============================] - 5s 134ms/step - loss: 0.0020\n",
      "Epoch 68/100\n",
      "38/38 [==============================] - 3s 89ms/step - loss: 0.0019\n",
      "Epoch 69/100\n",
      "38/38 [==============================] - 3s 85ms/step - loss: 0.0019\n",
      "Epoch 70/100\n",
      "38/38 [==============================] - 3s 91ms/step - loss: 0.0018\n",
      "Epoch 71/100\n",
      "38/38 [==============================] - 3s 86ms/step - loss: 0.0019\n",
      "Epoch 72/100\n",
      "38/38 [==============================] - 4s 98ms/step - loss: 0.0018\n",
      "Epoch 73/100\n",
      "38/38 [==============================] - 4s 93ms/step - loss: 0.0018\n",
      "Epoch 74/100\n",
      "38/38 [==============================] - 3s 91ms/step - loss: 0.0019\n",
      "Epoch 75/100\n",
      "38/38 [==============================] - 3s 87ms/step - loss: 0.0019\n",
      "Epoch 76/100\n",
      "38/38 [==============================] - 4s 116ms/step - loss: 0.0017\n",
      "Epoch 77/100\n",
      "38/38 [==============================] - 3s 85ms/step - loss: 0.0015\n",
      "Epoch 78/100\n",
      "38/38 [==============================] - 3s 90ms/step - loss: 0.0019\n",
      "Epoch 79/100\n",
      "38/38 [==============================] - 4s 93ms/step - loss: 0.0017\n",
      "Epoch 80/100\n",
      "38/38 [==============================] - 3s 90ms/step - loss: 0.0016\n",
      "Epoch 81/100\n",
      "38/38 [==============================] - 4s 94ms/step - loss: 0.0018\n",
      "Epoch 82/100\n",
      "38/38 [==============================] - 3s 84ms/step - loss: 0.0015\n",
      "Epoch 83/100\n",
      "38/38 [==============================] - 4s 100ms/step - loss: 0.0015\n",
      "Epoch 84/100\n",
      "38/38 [==============================] - 4s 100ms/step - loss: 0.0016\n",
      "Epoch 85/100\n",
      "38/38 [==============================] - 4s 96ms/step - loss: 0.0016\n",
      "Epoch 86/100\n",
      "38/38 [==============================] - 4s 93ms/step - loss: 0.0017\n",
      "Epoch 87/100\n",
      "38/38 [==============================] - 4s 97ms/step - loss: 0.0016\n",
      "Epoch 88/100\n",
      "38/38 [==============================] - 4s 93ms/step - loss: 0.0015\n",
      "Epoch 89/100\n",
      "38/38 [==============================] - 4s 112ms/step - loss: 0.0014\n",
      "Epoch 90/100\n",
      "38/38 [==============================] - 5s 129ms/step - loss: 0.0017\n",
      "Epoch 91/100\n",
      "38/38 [==============================] - 3s 86ms/step - loss: 0.0014\n",
      "Epoch 92/100\n",
      "38/38 [==============================] - 3s 80ms/step - loss: 0.0015\n",
      "Epoch 93/100\n",
      "38/38 [==============================] - 3s 81ms/step - loss: 0.0017\n",
      "Epoch 94/100\n",
      "38/38 [==============================] - 3s 87ms/step - loss: 0.0013\n",
      "Epoch 95/100\n",
      "38/38 [==============================] - 3s 83ms/step - loss: 0.0013\n",
      "Epoch 96/100\n",
      "38/38 [==============================] - 3s 83ms/step - loss: 0.0014\n",
      "Epoch 97/100\n",
      "38/38 [==============================] - 3s 80ms/step - loss: 0.0014\n",
      "Epoch 98/100\n",
      "38/38 [==============================] - 3s 80ms/step - loss: 0.0014\n",
      "Epoch 99/100\n",
      "38/38 [==============================] - 3s 86ms/step - loss: 0.0012\n",
      "Epoch 100/100\n",
      "38/38 [==============================] - 3s 80ms/step - loss: 0.0015\n"
     ]
    },
    {
     "data": {
      "text/plain": [
       "<keras.callbacks.History at 0x7fb760ad8970>"
      ]
     },
     "execution_count": 9,
     "metadata": {},
     "output_type": "execute_result"
    }
   ],
   "source": [
    "regressor.fit(X_train, y_train, epochs = 100, batch_size = 32)"
   ]
  },
  {
   "cell_type": "markdown",
   "id": "3d468beb",
   "metadata": {},
   "source": [
    "## Evaluating & Testing"
   ]
  },
  {
   "cell_type": "markdown",
   "id": "2188dc59",
   "metadata": {},
   "source": [
    "The step 6 is reading the test data"
   ]
  },
  {
   "cell_type": "code",
   "execution_count": 4,
   "id": "6398d6d1",
   "metadata": {},
   "outputs": [],
   "source": [
    "dataset_test = pd.read_csv('Google_Stock_Price_Test.csv')\n",
    "real_stock_price = dataset_test.iloc[:, 1:2].values"
   ]
  },
  {
   "cell_type": "markdown",
   "id": "df7197ee",
   "metadata": {},
   "source": [
    "#### Step 7 is getting the stock price predictions on test data, In here I concatenated the test open column with the train open column row-wise. The step I did above was just to take the last 60 values from the train data and also add that data to the test data, then reshape it to have just one column and as many rows, and scale it using MinMaxScaler then created the test data as did for the training data, from here we can make predictions\n",
    "\n",
    "#### Basically What we are doing here first taking the last 60 open values from the train and making predictions from it for the 61st value. Then what we will do is we will drop the 0th open value and now the input array will be 1st open value to the 61st open value (60 values) and will predict the 62nd open value and like this, we can keep on predicting the next value and take that for predicting next values."
   ]
  },
  {
   "cell_type": "code",
   "execution_count": 11,
   "id": "fa15d09e",
   "metadata": {},
   "outputs": [
    {
     "name": "stdout",
     "output_type": "stream",
     "text": [
      "1/1 [==============================] - 1s 1s/step\n"
     ]
    }
   ],
   "source": [
    "# Getting the predicted stock price of 2017\n",
    "dataset_total = pd.concat((dataset_train['Open'], dataset_test['Open']), axis = 0)\n",
    "inputs = dataset_total[len(dataset_total) - len(dataset_test) - 60:].values\n",
    "inputs = inputs.reshape(-1,1)\n",
    "inputs = sc.transform(inputs)\n",
    "X_test = []\n",
    "for i in range(60, 80):\n",
    "    X_test.append(inputs[i-60:i, 0])\n",
    "X_test = np.array(X_test)\n",
    "X_test = np.reshape(X_test, (X_test.shape[0], X_test.shape[1], 1))\n",
    "predicted_stock_price = regressor.predict(X_test)\n",
    "predicted_stock_price = sc.inverse_transform(predicted_stock_price)"
   ]
  },
  {
   "cell_type": "markdown",
   "id": "53c8ddd0",
   "metadata": {},
   "source": [
    "#### And this is the last step here we are plotting the predictions and real data our predictions are in the blue curve and the red curve represents its true value which means what it should be exactly, and you can see my model is not that perfect but still it is capable of catching the spikles with real google stock price it has the shape"
   ]
  },
  {
   "cell_type": "code",
   "execution_count": 12,
   "id": "614426cb",
   "metadata": {},
   "outputs": [
    {
     "data": {
      "image/png": "[encoded data removed]",
      "text/plain": [
       "<Figure size 640x480 with 1 Axes>"
      ]
     },
     "metadata": {},
     "output_type": "display_data"
    }
   ],
   "source": [
    "# Visualising the results\n",
    "plt.plot(real_stock_price, color = 'Green', label = 'Real Google Stock Price')\n",
    "plt.plot(predicted_stock_price, color = 'Blue', label = 'Predicted Google Stock Price')\n",
    "plt.title('Google Stock Price Prediction')\n",
    "plt.xlabel('Time')\n",
    "plt.ylabel('Google Stock Price')\n",
    "plt.legend()\n",
    "plt.show()"
   ]
  },
  {
   "cell_type": "markdown",
   "id": "b41e7d98",
   "metadata": {},
   "source": [
    "## Evaluate Results - Part E"
   ]
  },
  {
   "cell_type": "code",
   "execution_count": null,
   "id": "14a2a780",
   "metadata": {},
   "outputs": [],
   "source": []
  }
 ],
 "metadata": {
  "kernelspec": {
   "display_name": "Python 3 (ipykernel)",
   "language": "python",
   "name": "python3"
  },
  "language_info": {
   "codemirror_mode": {
    "name": "ipython",
    "version": 3
   },
   "file_extension": ".py",
   "mimetype": "text/x-python",
   "name": "python",
   "nbconvert_exporter": "python",
   "pygments_lexer": "ipython3",
   "version": "3.9.13"
  }
 },
 "nbformat": 4,
 "nbformat_minor": 5
}
